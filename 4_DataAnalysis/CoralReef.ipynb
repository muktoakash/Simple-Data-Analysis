{
 "cells": [
  {
   "cell_type": "markdown",
   "metadata": {},
   "source": [
    "# Data Analysis of Coral Reef bleaching"
   ]
  },
  {
   "cell_type": "code",
   "execution_count": 2,
   "metadata": {},
   "outputs": [],
   "source": [
    "import pandas as pd\n",
    "import matplotlib.pyplot as plt\n",
    "\n",
    "%matplotlib inline"
   ]
  },
  {
   "cell_type": "markdown",
   "metadata": {},
   "source": [
    "## Load dataset and Inital Exploration"
   ]
  },
  {
   "cell_type": "code",
   "execution_count": 3,
   "metadata": {},
   "outputs": [
    {
     "data": {
      "text/html": [
       "<div>\n",
       "<style scoped>\n",
       "    .dataframe tbody tr th:only-of-type {\n",
       "        vertical-align: middle;\n",
       "    }\n",
       "\n",
       "    .dataframe tbody tr th {\n",
       "        vertical-align: top;\n",
       "    }\n",
       "\n",
       "    .dataframe thead th {\n",
       "        text-align: right;\n",
       "    }\n",
       "</style>\n",
       "<table border=\"1\" class=\"dataframe\">\n",
       "  <thead>\n",
       "    <tr style=\"text-align: right;\">\n",
       "      <th></th>\n",
       "      <th>Reef ID</th>\n",
       "      <th>Reef Name</th>\n",
       "      <th>Longitude Degrees</th>\n",
       "      <th>Longitude Minutes</th>\n",
       "      <th>Longitude Seconds</th>\n",
       "      <th>Longitude Cardinal Direction</th>\n",
       "      <th>Latitude Degrees</th>\n",
       "      <th>Latitude Minutes</th>\n",
       "      <th>Latitude Seconds</th>\n",
       "      <th>Latitude Cardinal Direction</th>\n",
       "      <th>...</th>\n",
       "      <th>Year</th>\n",
       "      <th>Date</th>\n",
       "      <th>Depth</th>\n",
       "      <th>Organism Code</th>\n",
       "      <th>S1</th>\n",
       "      <th>S2</th>\n",
       "      <th>S3</th>\n",
       "      <th>S4</th>\n",
       "      <th>Errors?</th>\n",
       "      <th>What errors?</th>\n",
       "    </tr>\n",
       "  </thead>\n",
       "  <tbody>\n",
       "    <tr>\n",
       "      <th>0</th>\n",
       "      <td>103.10.28.1E.10.50.46.1N</td>\n",
       "      <td>Koh Mano (Minor)</td>\n",
       "      <td>103.0</td>\n",
       "      <td>10.0</td>\n",
       "      <td>28.1</td>\n",
       "      <td>E</td>\n",
       "      <td>10.0</td>\n",
       "      <td>50.0</td>\n",
       "      <td>46.1</td>\n",
       "      <td>N</td>\n",
       "      <td>...</td>\n",
       "      <td>2003</td>\n",
       "      <td>19-Feb-03</td>\n",
       "      <td>4.5</td>\n",
       "      <td>Bleaching (% of colony)</td>\n",
       "      <td>0.0</td>\n",
       "      <td>0.0</td>\n",
       "      <td>0.0</td>\n",
       "      <td>0.0</td>\n",
       "      <td>False</td>\n",
       "      <td>NaN</td>\n",
       "    </tr>\n",
       "    <tr>\n",
       "      <th>1</th>\n",
       "      <td>103.10.28.1E.10.50.46.1N</td>\n",
       "      <td>Koh Mano (Minor)</td>\n",
       "      <td>103.0</td>\n",
       "      <td>10.0</td>\n",
       "      <td>28.1</td>\n",
       "      <td>E</td>\n",
       "      <td>10.0</td>\n",
       "      <td>50.0</td>\n",
       "      <td>46.1</td>\n",
       "      <td>N</td>\n",
       "      <td>...</td>\n",
       "      <td>2003</td>\n",
       "      <td>19-Feb-03</td>\n",
       "      <td>4.5</td>\n",
       "      <td>Bleaching (% of population)</td>\n",
       "      <td>0.0</td>\n",
       "      <td>0.0</td>\n",
       "      <td>0.0</td>\n",
       "      <td>0.0</td>\n",
       "      <td>False</td>\n",
       "      <td>NaN</td>\n",
       "    </tr>\n",
       "    <tr>\n",
       "      <th>2</th>\n",
       "      <td>103.11.35.5E.10.49.32N</td>\n",
       "      <td>Koh Mano (south)</td>\n",
       "      <td>103.0</td>\n",
       "      <td>11.0</td>\n",
       "      <td>35.5</td>\n",
       "      <td>E</td>\n",
       "      <td>10.0</td>\n",
       "      <td>49.0</td>\n",
       "      <td>32.0</td>\n",
       "      <td>N</td>\n",
       "      <td>...</td>\n",
       "      <td>2003</td>\n",
       "      <td>28-Feb-03</td>\n",
       "      <td>4.5</td>\n",
       "      <td>Bleaching (% of colony)</td>\n",
       "      <td>0.0</td>\n",
       "      <td>0.0</td>\n",
       "      <td>0.0</td>\n",
       "      <td>0.0</td>\n",
       "      <td>False</td>\n",
       "      <td>NaN</td>\n",
       "    </tr>\n",
       "    <tr>\n",
       "      <th>3</th>\n",
       "      <td>103.11.35.5E.10.49.32N</td>\n",
       "      <td>Koh Mano (south)</td>\n",
       "      <td>103.0</td>\n",
       "      <td>11.0</td>\n",
       "      <td>35.5</td>\n",
       "      <td>E</td>\n",
       "      <td>10.0</td>\n",
       "      <td>49.0</td>\n",
       "      <td>32.0</td>\n",
       "      <td>N</td>\n",
       "      <td>...</td>\n",
       "      <td>2003</td>\n",
       "      <td>28-Feb-03</td>\n",
       "      <td>4.5</td>\n",
       "      <td>Bleaching (% of population)</td>\n",
       "      <td>0.0</td>\n",
       "      <td>0.0</td>\n",
       "      <td>0.0</td>\n",
       "      <td>0.0</td>\n",
       "      <td>False</td>\n",
       "      <td>NaN</td>\n",
       "    </tr>\n",
       "    <tr>\n",
       "      <th>4</th>\n",
       "      <td>103.11.79.5E.10.48.2.7N</td>\n",
       "      <td>Koh Ta Team</td>\n",
       "      <td>103.0</td>\n",
       "      <td>11.0</td>\n",
       "      <td>47.7</td>\n",
       "      <td>E</td>\n",
       "      <td>10.0</td>\n",
       "      <td>48.0</td>\n",
       "      <td>2.7</td>\n",
       "      <td>N</td>\n",
       "      <td>...</td>\n",
       "      <td>2003</td>\n",
       "      <td>24-Feb-03</td>\n",
       "      <td>5.0</td>\n",
       "      <td>Bleaching (% of colony)</td>\n",
       "      <td>0.0</td>\n",
       "      <td>0.0</td>\n",
       "      <td>0.0</td>\n",
       "      <td>0.0</td>\n",
       "      <td>False</td>\n",
       "      <td>NaN</td>\n",
       "    </tr>\n",
       "  </tbody>\n",
       "</table>\n",
       "<p>5 rows × 24 columns</p>\n",
       "</div>"
      ],
      "text/plain": [
       "                    Reef ID         Reef Name  Longitude Degrees  \\\n",
       "0  103.10.28.1E.10.50.46.1N  Koh Mano (Minor)              103.0   \n",
       "1  103.10.28.1E.10.50.46.1N  Koh Mano (Minor)              103.0   \n",
       "2    103.11.35.5E.10.49.32N  Koh Mano (south)              103.0   \n",
       "3    103.11.35.5E.10.49.32N  Koh Mano (south)              103.0   \n",
       "4   103.11.79.5E.10.48.2.7N       Koh Ta Team              103.0   \n",
       "\n",
       "   Longitude Minutes  Longitude Seconds Longitude Cardinal Direction  \\\n",
       "0               10.0               28.1                            E   \n",
       "1               10.0               28.1                            E   \n",
       "2               11.0               35.5                            E   \n",
       "3               11.0               35.5                            E   \n",
       "4               11.0               47.7                            E   \n",
       "\n",
       "   Latitude Degrees  Latitude Minutes  Latitude Seconds  \\\n",
       "0              10.0              50.0              46.1   \n",
       "1              10.0              50.0              46.1   \n",
       "2              10.0              49.0              32.0   \n",
       "3              10.0              49.0              32.0   \n",
       "4              10.0              48.0               2.7   \n",
       "\n",
       "  Latitude Cardinal Direction  ...  Year       Date Depth  \\\n",
       "0                           N  ...  2003  19-Feb-03   4.5   \n",
       "1                           N  ...  2003  19-Feb-03   4.5   \n",
       "2                           N  ...  2003  28-Feb-03   4.5   \n",
       "3                           N  ...  2003  28-Feb-03   4.5   \n",
       "4                           N  ...  2003  24-Feb-03   5.0   \n",
       "\n",
       "                 Organism Code   S1   S2   S3   S4  Errors?  What errors?  \n",
       "0      Bleaching (% of colony)  0.0  0.0  0.0  0.0    False           NaN  \n",
       "1  Bleaching (% of population)  0.0  0.0  0.0  0.0    False           NaN  \n",
       "2      Bleaching (% of colony)  0.0  0.0  0.0  0.0    False           NaN  \n",
       "3  Bleaching (% of population)  0.0  0.0  0.0  0.0    False           NaN  \n",
       "4      Bleaching (% of colony)  0.0  0.0  0.0  0.0    False           NaN  \n",
       "\n",
       "[5 rows x 24 columns]"
      ]
     },
     "execution_count": 3,
     "metadata": {},
     "output_type": "execute_result"
    }
   ],
   "source": [
    "data = pd.read_csv(\"../Data/Datasets/Reef Check Data Raw.csv\")\n",
    "data.head()"
   ]
  },
  {
   "cell_type": "code",
   "execution_count": 4,
   "metadata": {},
   "outputs": [
    {
     "data": {
      "text/plain": [
       "(18211, 24)"
      ]
     },
     "execution_count": 4,
     "metadata": {},
     "output_type": "execute_result"
    }
   ],
   "source": [
    "data.shape"
   ]
  },
  {
   "cell_type": "code",
   "execution_count": 5,
   "metadata": {},
   "outputs": [
    {
     "name": "stdout",
     "output_type": "stream",
     "text": [
      "<class 'pandas.core.frame.DataFrame'>\n",
      "RangeIndex: 18211 entries, 0 to 18210\n",
      "Data columns (total 24 columns):\n",
      " #   Column                        Non-Null Count  Dtype  \n",
      "---  ------                        --------------  -----  \n",
      " 0   Reef ID                       18211 non-null  object \n",
      " 1   Reef Name                     18211 non-null  object \n",
      " 2   Longitude Degrees             18165 non-null  float64\n",
      " 3   Longitude Minutes             18165 non-null  float64\n",
      " 4   Longitude Seconds             18161 non-null  float64\n",
      " 5   Longitude Cardinal Direction  18179 non-null  object \n",
      " 6   Latitude Degrees              18165 non-null  float64\n",
      " 7   Latitude Minutes              18165 non-null  float64\n",
      " 8   Latitude Seconds              18165 non-null  float64\n",
      " 9   Latitude Cardinal Direction   18179 non-null  object \n",
      " 10  Ocean                         18171 non-null  object \n",
      " 11  Country                       18211 non-null  object \n",
      " 12  State/Province/Island         16258 non-null  object \n",
      " 13  City/Town                     13903 non-null  object \n",
      " 14  Year                          18211 non-null  int64  \n",
      " 15  Date                          18211 non-null  object \n",
      " 16  Depth                         18211 non-null  float64\n",
      " 17  Organism Code                 18211 non-null  object \n",
      " 18  S1                            18196 non-null  float64\n",
      " 19  S2                            18189 non-null  float64\n",
      " 20  S3                            18074 non-null  float64\n",
      " 21  S4                            18000 non-null  float64\n",
      " 22  Errors?                       18211 non-null  bool   \n",
      " 23  What errors?                  3904 non-null   object \n",
      "dtypes: bool(1), float64(11), int64(1), object(11)\n",
      "memory usage: 3.2+ MB\n"
     ]
    }
   ],
   "source": [
    "data.info()"
   ]
  },
  {
   "cell_type": "code",
   "execution_count": 6,
   "metadata": {},
   "outputs": [
    {
     "data": {
      "text/plain": [
       "Index(['Reef ID', 'Reef Name', 'Longitude Degrees', 'Longitude Minutes',\n",
       "       'Longitude Seconds', 'Longitude Cardinal Direction', 'Latitude Degrees',\n",
       "       'Latitude Minutes', 'Latitude Seconds', 'Latitude Cardinal Direction',\n",
       "       'Ocean', 'Country', 'State/Province/Island', 'City/Town', 'Year',\n",
       "       'Date', 'Depth', 'Organism Code', 'S1', 'S2', 'S3', 'S4', 'Errors?',\n",
       "       'What errors?'],\n",
       "      dtype='object')"
      ]
     },
     "execution_count": 6,
     "metadata": {},
     "output_type": "execute_result"
    }
   ],
   "source": [
    "data.columns"
   ]
  },
  {
   "cell_type": "code",
   "execution_count": 7,
   "metadata": {},
   "outputs": [
    {
     "data": {
      "text/plain": [
       "Reef ID                             0\n",
       "Reef Name                           0\n",
       "Longitude Degrees                  46\n",
       "Longitude Minutes                  46\n",
       "Longitude Seconds                  50\n",
       "Longitude Cardinal Direction       32\n",
       "Latitude Degrees                   46\n",
       "Latitude Minutes                   46\n",
       "Latitude Seconds                   46\n",
       "Latitude Cardinal Direction        32\n",
       "Ocean                              40\n",
       "Country                             0\n",
       "State/Province/Island            1953\n",
       "City/Town                        4308\n",
       "Year                                0\n",
       "Date                                0\n",
       "Depth                               0\n",
       "Organism Code                       0\n",
       "S1                                 15\n",
       "S2                                 22\n",
       "S3                                137\n",
       "S4                                211\n",
       "Errors?                             0\n",
       "What errors?                    14307\n",
       "dtype: int64"
      ]
     },
     "execution_count": 7,
     "metadata": {},
     "output_type": "execute_result"
    }
   ],
   "source": [
    "## Number of mising values\n",
    "data.isnull().sum()"
   ]
  },
  {
   "cell_type": "code",
   "execution_count": 8,
   "metadata": {},
   "outputs": [
    {
     "data": {
      "text/plain": [
       "0"
      ]
     },
     "execution_count": 8,
     "metadata": {},
     "output_type": "execute_result"
    }
   ],
   "source": [
    "## Number of duplicated rows\n",
    "data.duplicated().sum()"
   ]
  },
  {
   "cell_type": "code",
   "execution_count": null,
   "metadata": {},
   "outputs": [],
   "source": []
  }
 ],
 "metadata": {
  "kernelspec": {
   "display_name": ".venv",
   "language": "python",
   "name": "python3"
  },
  "language_info": {
   "codemirror_mode": {
    "name": "ipython",
    "version": 3
   },
   "file_extension": ".py",
   "mimetype": "text/x-python",
   "name": "python",
   "nbconvert_exporter": "python",
   "pygments_lexer": "ipython3",
   "version": "3.12.6"
  }
 },
 "nbformat": 4,
 "nbformat_minor": 2
}
