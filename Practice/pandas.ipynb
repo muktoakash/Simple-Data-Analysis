{
 "cells": [
  {
   "cell_type": "markdown",
   "metadata": {},
   "source": [
    "# Practice with Pandas\n",
    "\n"
   ]
  },
  {
   "cell_type": "markdown",
   "metadata": {},
   "source": [
    "## Import Data from kaggle"
   ]
  },
  {
   "cell_type": "code",
   "execution_count": 1,
   "metadata": {},
   "outputs": [],
   "source": [
    "import kagglehub\n",
    "\n",
    "# Authenticate\n",
    "# kagglehub.login() # This will prompt you for your credentials.\n",
    "# We also offer other ways to authenticate (credential file & env variables): https://github.com/Kaggle/kagglehub?tab=readme-ov-file#authenticate\n",
    "\n",
    "from kaggle.api.kaggle_api_extended import KaggleApi\n",
    "\n",
    "api = KaggleApi()\n",
    "api.authenticate()"
   ]
  },
  {
   "cell_type": "code",
   "execution_count": 3,
   "metadata": {},
   "outputs": [
    {
     "name": "stdout",
     "output_type": "stream",
     "text": [
      "Warning: Looks like you're using an outdated `kagglehub` version (installed: 0.3.8), please consider upgrading to the latest version (0.3.10).\n",
      "Downloading from https://www.kaggle.com/api/v1/datasets/download/ibrarhussain123/world-largest-cities-by-population-2024?dataset_version_number=1...\n"
     ]
    },
    {
     "name": "stderr",
     "output_type": "stream",
     "text": [
      "100%|██████████| 16.9k/16.9k [00:00<00:00, 1.03MB/s]"
     ]
    },
    {
     "name": "stdout",
     "output_type": "stream",
     "text": [
      "Extracting files...\n",
      "Path to dataset files: C:\\Users\\skyfree\\.cache\\kagglehub\\datasets\\ibrarhussain123\\world-largest-cities-by-population-2024\\versions\\1\n"
     ]
    },
    {
     "name": "stderr",
     "output_type": "stream",
     "text": [
      "\n"
     ]
    }
   ],
   "source": [
    "import kagglehub\n",
    "\n",
    "# Download latest version\n",
    "path = kagglehub.dataset_download(\"ibrarhussain123/world-largest-cities-by-population-2024\")\n",
    "\n",
    "print(\"Path to dataset files:\", path)"
   ]
  },
  {
   "cell_type": "code",
   "execution_count": 4,
   "metadata": {},
   "outputs": [
    {
     "data": {
      "text/plain": [
       "'../Data/Datasets/big_cities.csv'"
      ]
     },
     "execution_count": 4,
     "metadata": {},
     "output_type": "execute_result"
    }
   ],
   "source": [
    "# Move the dataset\n",
    "import os, shutil\n",
    "\n",
    "files = os.listdir(path)\n",
    "\n",
    "shutil.move(f'{path}/{files[0]}', \"../Data/Datasets/big_cities.csv\")"
   ]
  },
  {
   "cell_type": "markdown",
   "metadata": {},
   "source": [
    "## Load Data into Pandas"
   ]
  },
  {
   "cell_type": "code",
   "execution_count": 5,
   "metadata": {},
   "outputs": [
    {
     "data": {
      "text/html": [
       "<div>\n",
       "<style scoped>\n",
       "    .dataframe tbody tr th:only-of-type {\n",
       "        vertical-align: middle;\n",
       "    }\n",
       "\n",
       "    .dataframe tbody tr th {\n",
       "        vertical-align: top;\n",
       "    }\n",
       "\n",
       "    .dataframe thead th {\n",
       "        text-align: right;\n",
       "    }\n",
       "</style>\n",
       "<table border=\"1\" class=\"dataframe\">\n",
       "  <thead>\n",
       "    <tr style=\"text-align: right;\">\n",
       "      <th></th>\n",
       "      <th>Unnamed: 0</th>\n",
       "      <th>City</th>\n",
       "      <th>Country</th>\n",
       "      <th>Population (2024)</th>\n",
       "      <th>Population (2023)</th>\n",
       "      <th>Growth Rate</th>\n",
       "    </tr>\n",
       "  </thead>\n",
       "  <tbody>\n",
       "    <tr>\n",
       "      <th>0</th>\n",
       "      <td>0</td>\n",
       "      <td>Tokyo</td>\n",
       "      <td>Japan</td>\n",
       "      <td>37115035</td>\n",
       "      <td>37194105</td>\n",
       "      <td>-0.0021</td>\n",
       "    </tr>\n",
       "    <tr>\n",
       "      <th>1</th>\n",
       "      <td>1</td>\n",
       "      <td>Delhi</td>\n",
       "      <td>India</td>\n",
       "      <td>33807403</td>\n",
       "      <td>32941309</td>\n",
       "      <td>0.0263</td>\n",
       "    </tr>\n",
       "    <tr>\n",
       "      <th>2</th>\n",
       "      <td>2</td>\n",
       "      <td>Shanghai</td>\n",
       "      <td>China</td>\n",
       "      <td>29867918</td>\n",
       "      <td>29210808</td>\n",
       "      <td>0.0225</td>\n",
       "    </tr>\n",
       "    <tr>\n",
       "      <th>3</th>\n",
       "      <td>3</td>\n",
       "      <td>Dhaka</td>\n",
       "      <td>Bangladesh</td>\n",
       "      <td>23935652</td>\n",
       "      <td>23209616</td>\n",
       "      <td>0.0313</td>\n",
       "    </tr>\n",
       "    <tr>\n",
       "      <th>4</th>\n",
       "      <td>4</td>\n",
       "      <td>Sao Paulo</td>\n",
       "      <td>Brazil</td>\n",
       "      <td>22806704</td>\n",
       "      <td>22619736</td>\n",
       "      <td>0.0083</td>\n",
       "    </tr>\n",
       "  </tbody>\n",
       "</table>\n",
       "</div>"
      ],
      "text/plain": [
       "   Unnamed: 0       City     Country  Population (2024)  Population (2023)  \\\n",
       "0           0      Tokyo       Japan           37115035           37194105   \n",
       "1           1      Delhi       India           33807403           32941309   \n",
       "2           2   Shanghai       China           29867918           29210808   \n",
       "3           3      Dhaka  Bangladesh           23935652           23209616   \n",
       "4           4  Sao Paulo      Brazil           22806704           22619736   \n",
       "\n",
       "   Growth Rate  \n",
       "0      -0.0021  \n",
       "1       0.0263  \n",
       "2       0.0225  \n",
       "3       0.0313  \n",
       "4       0.0083  "
      ]
     },
     "execution_count": 5,
     "metadata": {},
     "output_type": "execute_result"
    }
   ],
   "source": [
    "import pandas as pd\n",
    "\n",
    "file_loc = \"../Data/Datasets/big_cities.csv\"\n",
    "df = pd.read_csv(file_loc)\n",
    "\n",
    "df.head()"
   ]
  },
  {
   "cell_type": "code",
   "execution_count": 6,
   "metadata": {},
   "outputs": [],
   "source": [
    "# Drop the Unnamed column\n",
    "df.drop(df.columns[0], axis= 1, inplace=True)"
   ]
  },
  {
   "cell_type": "markdown",
   "metadata": {},
   "source": [
    "## Explore"
   ]
  },
  {
   "cell_type": "code",
   "execution_count": 7,
   "metadata": {},
   "outputs": [
    {
     "name": "stdout",
     "output_type": "stream",
     "text": [
      "<class 'pandas.core.frame.DataFrame'>\n",
      "RangeIndex: 801 entries, 0 to 800\n",
      "Data columns (total 5 columns):\n",
      " #   Column             Non-Null Count  Dtype  \n",
      "---  ------             --------------  -----  \n",
      " 0   City               801 non-null    object \n",
      " 1   Country            801 non-null    object \n",
      " 2   Population (2024)  801 non-null    int64  \n",
      " 3   Population (2023)  801 non-null    int64  \n",
      " 4   Growth Rate        801 non-null    float64\n",
      "dtypes: float64(1), int64(2), object(2)\n",
      "memory usage: 31.4+ KB\n",
      "None\n"
     ]
    }
   ],
   "source": [
    "print(df.info())"
   ]
  },
  {
   "cell_type": "code",
   "execution_count": 8,
   "metadata": {},
   "outputs": [
    {
     "name": "stdout",
     "output_type": "stream",
     "text": [
      "       Population (2024)  Population (2023)  Growth Rate\n",
      "count       8.010000e+02       8.010000e+02   801.000000\n",
      "mean        2.654327e+06       2.604461e+06     0.020051\n",
      "std         3.723253e+06       3.661201e+06     0.012180\n",
      "min         7.500360e+05       7.228360e+05    -0.024900\n",
      "25%         9.909310e+05       9.698040e+05     0.012200\n",
      "50%         1.379368e+06       1.363510e+06     0.019700\n",
      "75%         2.570980e+06       2.514077e+06     0.026600\n",
      "max         3.711504e+07       3.719410e+07     0.058200\n"
     ]
    }
   ],
   "source": [
    "print(df.describe())"
   ]
  },
  {
   "cell_type": "markdown",
   "metadata": {},
   "source": [
    "### Warmup Exercises\n",
    "\n",
    "This part is a follow along exercise Learn Data Analytics with Pandas: Master Data Filtering in Python from CodeWithJosh"
   ]
  },
  {
   "cell_type": "code",
   "execution_count": 9,
   "metadata": {},
   "outputs": [
    {
     "name": "stdout",
     "output_type": "stream",
     "text": [
      "        City     Country  Population (2024)  Population (2023)  Growth Rate\n",
      "0      Tokyo       Japan           37115035           37194105      -0.0021\n",
      "1      Delhi       India           33807403           32941309       0.0263\n",
      "2   Shanghai       China           29867918           29210808       0.0225\n",
      "3      Dhaka  Bangladesh           23935652           23209616       0.0313\n",
      "4  Sao Paulo      Brazil           22806704           22619736       0.0083\n",
      "<class 'pandas.core.frame.DataFrame'>\n",
      "Index: 9 entries, 0 to 8\n",
      "Data columns (total 5 columns):\n",
      " #   Column             Non-Null Count  Dtype  \n",
      "---  ------             --------------  -----  \n",
      " 0   City               9 non-null      object \n",
      " 1   Country            9 non-null      object \n",
      " 2   Population (2024)  9 non-null      int64  \n",
      " 3   Population (2023)  9 non-null      int64  \n",
      " 4   Growth Rate        9 non-null      float64\n",
      "dtypes: float64(1), int64(2), object(2)\n",
      "memory usage: 432.0+ bytes\n",
      "None\n",
      "       Population (2024)  Population (2023)  Growth Rate\n",
      "count       9.000000e+00       9.000000e+00     9.000000\n",
      "mean        2.628046e+07       2.585588e+07     0.017033\n",
      "std         5.810194e+06       5.823099e+06     0.010157\n",
      "min         2.167315e+07       2.129652e+07    -0.002100\n",
      "25%         2.250532e+07       2.218320e+07     0.010000\n",
      "50%         2.280670e+07       2.261974e+07     0.019400\n",
      "75%         2.986792e+07       2.921081e+07     0.022500\n",
      "max         3.711504e+07       3.719410e+07     0.031300\n"
     ]
    }
   ],
   "source": [
    "## Find cities with 2024 population greater than 20 million\n",
    "\n",
    "condition = df[\"Population (2024)\"] > 20e+6\n",
    "\n",
    "cities_more_than_20min_2024 = df[condition]\n",
    "\n",
    "print(cities_more_than_20min_2024.head())\n",
    "print(cities_more_than_20min_2024.info())\n",
    "print(cities_more_than_20min_2024.describe())"
   ]
  },
  {
   "cell_type": "code",
   "execution_count": 10,
   "metadata": {},
   "outputs": [
    {
     "name": "stdout",
     "output_type": "stream",
     "text": [
      "                 City  Country  Population (2024)  Population (2023)  \\\n",
      "38   Ho Chi Minh City  Vietnam            9567656            9320866   \n",
      "79              Hanoi  Vietnam            5431801            5253385   \n",
      "272           Can Tho  Vietnam            1938915            1865172   \n",
      "375         Hai Phong  Vietnam            1463650            1422974   \n",
      "460           Da Nang  Vietnam            1253228            1220634   \n",
      "\n",
      "     Growth Rate  \n",
      "38        0.0265  \n",
      "79        0.0340  \n",
      "272       0.0395  \n",
      "375       0.0286  \n",
      "460       0.0267  \n",
      "<class 'pandas.core.frame.DataFrame'>\n",
      "Index: 6 entries, 38 to 508\n",
      "Data columns (total 5 columns):\n",
      " #   Column             Non-Null Count  Dtype  \n",
      "---  ------             --------------  -----  \n",
      " 0   City               6 non-null      object \n",
      " 1   Country            6 non-null      object \n",
      " 2   Population (2024)  6 non-null      int64  \n",
      " 3   Population (2023)  6 non-null      int64  \n",
      " 4   Growth Rate        6 non-null      float64\n",
      "dtypes: float64(1), int64(2), object(2)\n",
      "memory usage: 288.0+ bytes\n",
      "None\n",
      "       Population (2024)  Population (2023)  Growth Rate\n",
      "count       6.000000e+00       6.000000e+00     6.000000\n",
      "mean        3.466374e+06       3.365642e+06     0.030717\n",
      "std         3.397902e+06       3.308743e+06     0.005085\n",
      "min         1.142997e+06       1.110824e+06     0.026500\n",
      "25%         1.305834e+06       1.271219e+06     0.027175\n",
      "50%         1.701282e+06       1.644073e+06     0.028800\n",
      "75%         4.558580e+06       4.406332e+06     0.032750\n",
      "max         9.567656e+06       9.320866e+06     0.039500\n"
     ]
    }
   ],
   "source": [
    "## Find largest cities in Vietnam\n",
    "\n",
    "condition = df[\"Country\"] == \"Vietnam\"\n",
    "\n",
    "cities_Vietnam = df[condition]\n",
    "\n",
    "print(cities_Vietnam.head())\n",
    "print(cities_Vietnam.info())\n",
    "print(cities_Vietnam.describe())"
   ]
  },
  {
   "cell_type": "code",
   "execution_count": 11,
   "metadata": {},
   "outputs": [
    {
     "name": "stdout",
     "output_type": "stream",
     "text": [
      "         City Country  Population (2024)  Population (2023)  Growth Rate\n",
      "2    Shanghai   China           29867918           29210808       0.0225\n",
      "7     Beijing   China           22189082           21766214       0.0194\n",
      "10  Chongqing   China           17773923           17340704       0.0250\n",
      "18  Guangzhou   China           14590096           14284353       0.0214\n",
      "19    Tianjin   China           14470873           14238643       0.0163\n",
      "<class 'pandas.core.frame.DataFrame'>\n",
      "Index: 225 entries, 2 to 800\n",
      "Data columns (total 5 columns):\n",
      " #   Column             Non-Null Count  Dtype  \n",
      "---  ------             --------------  -----  \n",
      " 0   City               225 non-null    object \n",
      " 1   Country            225 non-null    object \n",
      " 2   Population (2024)  225 non-null    int64  \n",
      " 3   Population (2023)  225 non-null    int64  \n",
      " 4   Growth Rate        225 non-null    float64\n",
      "dtypes: float64(1), int64(2), object(2)\n",
      "memory usage: 10.5+ KB\n",
      "None\n",
      "       Population (2024)  Population (2023)  Growth Rate\n",
      "count       2.250000e+02       2.250000e+02   225.000000\n",
      "mean        2.422982e+06       2.369252e+06     0.023865\n",
      "std         3.391057e+06       3.321088e+06     0.006145\n",
      "min         7.500360e+05       7.338100e+05     0.009700\n",
      "25%         9.306200e+05       9.107430e+05     0.019700\n",
      "50%         1.275395e+06       1.250668e+06     0.023100\n",
      "75%         2.152226e+06       2.107539e+06     0.027000\n",
      "max         2.986792e+07       2.921081e+07     0.048300\n"
     ]
    }
   ],
   "source": [
    "## Find the Growing Cities in China\n",
    "\n",
    "condition1 = df[\"Country\"] == \"China\"\n",
    "condition2 = df[\"Growth Rate\"] > 0\n",
    "\n",
    "growing_cities_in_China = df[condition1 & condition2]\n",
    "\n",
    "print(growing_cities_in_China.head())\n",
    "print(growing_cities_in_China.info())\n",
    "print(growing_cities_in_China.describe())"
   ]
  },
  {
   "cell_type": "code",
   "execution_count": 12,
   "metadata": {},
   "outputs": [
    {
     "name": "stdout",
     "output_type": "stream",
     "text": [
      "262676454\n"
     ]
    }
   ],
   "source": [
    "## Total 2024 population of largest cities in India\n",
    "condition = df[\"Country\"] == \"India\"\n",
    "\n",
    "total_Pop_India = df[condition][\"Population (2024)\"].sum()\n",
    "\n",
    "print(total_Pop_India)"
   ]
  },
  {
   "cell_type": "code",
   "execution_count": 13,
   "metadata": {},
   "outputs": [
    {
     "data": {
      "text/plain": [
       "-0.0019"
      ]
     },
     "execution_count": 13,
     "metadata": {},
     "output_type": "execute_result"
    }
   ],
   "source": [
    "## Find cities with a growth rate decline and calculate their growth median\n",
    "condition = df[\"Growth Rate\"] < 0\n",
    "\n",
    "df[condition][\"Growth Rate\"].median()"
   ]
  },
  {
   "cell_type": "code",
   "execution_count": 14,
   "metadata": {},
   "outputs": [
    {
     "data": {
      "text/plain": [
       "733810"
      ]
     },
     "execution_count": 14,
     "metadata": {},
     "output_type": "execute_result"
    }
   ],
   "source": [
    "## Find the minimum 2023 population from the growing cities in China\n",
    "\n",
    "growing_cities_in_China[\"Population (2023)\"].min()"
   ]
  },
  {
   "cell_type": "markdown",
   "metadata": {},
   "source": [
    "This part is follow along exercise Learn Data Analytics with Pandas: Data Grouping and Aggregating Tutorial\n",
    "by CodeWithJosh."
   ]
  },
  {
   "cell_type": "code",
   "execution_count": 15,
   "metadata": {},
   "outputs": [
    {
     "name": "stdout",
     "output_type": "stream",
     "text": [
      "Country\n",
      "Afghanistan    1\n",
      "Algeria        2\n",
      "Angola         6\n",
      "Argentina      6\n",
      "Armenia        1\n",
      "              ..\n",
      "Venezuela      8\n",
      "Vietnam        6\n",
      "Yemen          5\n",
      "Zambia         2\n",
      "Zimbabwe       1\n",
      "Name: City, Length: 132, dtype: int64\n"
     ]
    }
   ],
   "source": [
    "## How many cities are there in each country\n",
    "\n",
    "grouped_country = df.groupby(by = \"Country\")\n",
    "\n",
    "print(grouped_country[\"City\"].count())"
   ]
  },
  {
   "cell_type": "code",
   "execution_count": 16,
   "metadata": {},
   "outputs": [
    {
     "data": {
      "text/plain": [
       "Country\n",
       "Afghanistan    4.728384e+06\n",
       "Algeria        1.951442e+06\n",
       "Angola         2.336443e+06\n",
       "Argentina      3.677088e+06\n",
       "Armenia        1.097542e+06\n",
       "                   ...     \n",
       "Venezuela      1.564168e+06\n",
       "Vietnam        3.466374e+06\n",
       "Yemen          1.413566e+06\n",
       "Zambia         2.058284e+06\n",
       "Zimbabwe       1.603201e+06\n",
       "Name: Population (2024), Length: 132, dtype: float64"
      ]
     },
     "execution_count": 16,
     "metadata": {},
     "output_type": "execute_result"
    }
   ],
   "source": [
    "## What is the average 2024 population in each country?\n",
    "grouped_country[\"Population (2024)\"].mean()"
   ]
  },
  {
   "cell_type": "code",
   "execution_count": 17,
   "metadata": {},
   "outputs": [
    {
     "data": {
      "text/plain": [
       "Country\n",
       "Afghanistan    0.0304\n",
       "Algeria        0.0331\n",
       "Angola         0.2568\n",
       "Argentina      0.0648\n",
       "Armenia        0.0025\n",
       "                ...  \n",
       "Venezuela      0.1036\n",
       "Vietnam        0.1843\n",
       "Yemen          0.1883\n",
       "Zambia         0.0834\n",
       "Zimbabwe       0.0159\n",
       "Name: Growth Rate, Length: 127, dtype: float64"
      ]
     },
     "execution_count": 17,
     "metadata": {},
     "output_type": "execute_result"
    }
   ],
   "source": [
    "## What is the total positive growth rate for each country?\n",
    "\n",
    "condition = df[\"Growth Rate\"] > 0\n",
    "growing_countries = df[condition].groupby(by = \"Country\")\n",
    "growing_countries[\"Growth Rate\"].sum()"
   ]
  },
  {
   "cell_type": "code",
   "execution_count": 18,
   "metadata": {},
   "outputs": [
    {
     "name": "stdout",
     "output_type": "stream",
     "text": [
      "         Country  Growth Rate  Population (2024)\n",
      "0    Afghanistan       0.0304          4728384.0\n",
      "1        Algeria       0.0158           950768.0\n",
      "2        Algeria       0.0173          2952115.0\n",
      "3         Angola       0.0325           751297.0\n",
      "4         Angola       0.0386          9651032.0\n",
      "..           ...          ...                ...\n",
      "666        Yemen       0.0361           974518.0\n",
      "667        Yemen       0.0501           810149.0\n",
      "668       Zambia       0.0385           792350.0\n",
      "669       Zambia       0.0449          3324219.0\n",
      "670     Zimbabwe       0.0159          1603201.0\n",
      "\n",
      "[671 rows x 3 columns]\n"
     ]
    }
   ],
   "source": [
    "## What is the average 2024 population for each country and growth rate?\n",
    "\n",
    "group_country_growth = df.groupby([\"Country\", \"Growth Rate\"])\n",
    "\n",
    "print(group_country_growth[\"Population (2024)\"].mean().reset_index())"
   ]
  },
  {
   "cell_type": "markdown",
   "metadata": {},
   "source": [
    "Aggregression"
   ]
  },
  {
   "cell_type": "code",
   "execution_count": 19,
   "metadata": {},
   "outputs": [
    {
     "data": {
      "text/html": [
       "<div>\n",
       "<style scoped>\n",
       "    .dataframe tbody tr th:only-of-type {\n",
       "        vertical-align: middle;\n",
       "    }\n",
       "\n",
       "    .dataframe tbody tr th {\n",
       "        vertical-align: top;\n",
       "    }\n",
       "\n",
       "    .dataframe thead th {\n",
       "        text-align: right;\n",
       "    }\n",
       "</style>\n",
       "<table border=\"1\" class=\"dataframe\">\n",
       "  <thead>\n",
       "    <tr style=\"text-align: right;\">\n",
       "      <th></th>\n",
       "      <th>min</th>\n",
       "      <th>max</th>\n",
       "      <th>mean</th>\n",
       "      <th>sum</th>\n",
       "    </tr>\n",
       "    <tr>\n",
       "      <th>Country</th>\n",
       "      <th></th>\n",
       "      <th></th>\n",
       "      <th></th>\n",
       "      <th></th>\n",
       "    </tr>\n",
       "  </thead>\n",
       "  <tbody>\n",
       "    <tr>\n",
       "      <th>Afghanistan</th>\n",
       "      <td>4728384</td>\n",
       "      <td>4728384</td>\n",
       "      <td>4.728384e+06</td>\n",
       "      <td>4728384</td>\n",
       "    </tr>\n",
       "    <tr>\n",
       "      <th>Algeria</th>\n",
       "      <td>950768</td>\n",
       "      <td>2952115</td>\n",
       "      <td>1.951442e+06</td>\n",
       "      <td>3902883</td>\n",
       "    </tr>\n",
       "    <tr>\n",
       "      <th>Angola</th>\n",
       "      <td>751297</td>\n",
       "      <td>9651032</td>\n",
       "      <td>2.336443e+06</td>\n",
       "      <td>14018657</td>\n",
       "    </tr>\n",
       "    <tr>\n",
       "      <th>Argentina</th>\n",
       "      <td>923715</td>\n",
       "      <td>15618288</td>\n",
       "      <td>3.677088e+06</td>\n",
       "      <td>22062526</td>\n",
       "    </tr>\n",
       "    <tr>\n",
       "      <th>Armenia</th>\n",
       "      <td>1097542</td>\n",
       "      <td>1097542</td>\n",
       "      <td>1.097542e+06</td>\n",
       "      <td>1097542</td>\n",
       "    </tr>\n",
       "    <tr>\n",
       "      <th>...</th>\n",
       "      <td>...</td>\n",
       "      <td>...</td>\n",
       "      <td>...</td>\n",
       "      <td>...</td>\n",
       "    </tr>\n",
       "    <tr>\n",
       "      <th>Venezuela</th>\n",
       "      <td>775097</td>\n",
       "      <td>2991727</td>\n",
       "      <td>1.564168e+06</td>\n",
       "      <td>12513347</td>\n",
       "    </tr>\n",
       "    <tr>\n",
       "      <th>Vietnam</th>\n",
       "      <td>1142997</td>\n",
       "      <td>9567656</td>\n",
       "      <td>3.466374e+06</td>\n",
       "      <td>20798247</td>\n",
       "    </tr>\n",
       "    <tr>\n",
       "      <th>Yemen</th>\n",
       "      <td>759157</td>\n",
       "      <td>3407814</td>\n",
       "      <td>1.413566e+06</td>\n",
       "      <td>7067831</td>\n",
       "    </tr>\n",
       "    <tr>\n",
       "      <th>Zambia</th>\n",
       "      <td>792350</td>\n",
       "      <td>3324219</td>\n",
       "      <td>2.058284e+06</td>\n",
       "      <td>4116569</td>\n",
       "    </tr>\n",
       "    <tr>\n",
       "      <th>Zimbabwe</th>\n",
       "      <td>1603201</td>\n",
       "      <td>1603201</td>\n",
       "      <td>1.603201e+06</td>\n",
       "      <td>1603201</td>\n",
       "    </tr>\n",
       "  </tbody>\n",
       "</table>\n",
       "<p>132 rows × 4 columns</p>\n",
       "</div>"
      ],
      "text/plain": [
       "                 min       max          mean       sum\n",
       "Country                                               \n",
       "Afghanistan  4728384   4728384  4.728384e+06   4728384\n",
       "Algeria       950768   2952115  1.951442e+06   3902883\n",
       "Angola        751297   9651032  2.336443e+06  14018657\n",
       "Argentina     923715  15618288  3.677088e+06  22062526\n",
       "Armenia      1097542   1097542  1.097542e+06   1097542\n",
       "...              ...       ...           ...       ...\n",
       "Venezuela     775097   2991727  1.564168e+06  12513347\n",
       "Vietnam      1142997   9567656  3.466374e+06  20798247\n",
       "Yemen         759157   3407814  1.413566e+06   7067831\n",
       "Zambia        792350   3324219  2.058284e+06   4116569\n",
       "Zimbabwe     1603201   1603201  1.603201e+06   1603201\n",
       "\n",
       "[132 rows x 4 columns]"
      ]
     },
     "execution_count": 19,
     "metadata": {},
     "output_type": "execute_result"
    }
   ],
   "source": [
    "## What are the summary statistics (min, max, mean, sum) for the 2024 population for each country?\n",
    "\n",
    "grouped_country[\"Population (2024)\"].aggregate([\"min\", \"max\", \"mean\", \"sum\"])"
   ]
  },
  {
   "cell_type": "code",
   "execution_count": 20,
   "metadata": {},
   "outputs": [
    {
     "name": "stdout",
     "output_type": "stream",
     "text": [
      "Country      Growth Category\n",
      "Afghanistan  high growth        4.728384e+06\n",
      "Algeria      moderate growth    1.951442e+06\n",
      "Angola       high growth        2.336443e+06\n",
      "Argentina    moderate growth    3.677088e+06\n",
      "Armenia      moderate growth    1.097542e+06\n",
      "                                    ...     \n",
      "Venezuela    moderate growth    1.676893e+06\n",
      "Vietnam      high growth        3.466374e+06\n",
      "Yemen        high growth        1.413566e+06\n",
      "Zambia       high growth        2.058284e+06\n",
      "Zimbabwe     moderate growth    1.603201e+06\n",
      "Name: Population (2024), Length: 153, dtype: float64\n"
     ]
    }
   ],
   "source": [
    "## What is the average 2024 Population for each country and growth category?\n",
    "\n",
    "def growth_category(growth):\n",
    "    \"\"\"\n",
    "    growth_category : growth Float -> catetogy Str\n",
    "\n",
    "    Designates a category to each growth according to the criteria:\n",
    "    growth > 0.02 -> \"high growth\"\n",
    "    0 <= growth <= 0.02 -> \"moderate growth\"\n",
    "    growth < 0 -> \"negative growth\"\n",
    "\n",
    "    Requires:\n",
    "    growth is a number\n",
    "    \"\"\"\n",
    "\n",
    "    if (growth > 0.02):\n",
    "        ret_str = \"high growth\"\n",
    "    elif (growth >= 0):\n",
    "        ret_str = \"moderate growth\"\n",
    "    else:\n",
    "        ret_str = \"negative growth\"\n",
    "\n",
    "    return ret_str\n",
    "\n",
    "# Add a new column to the dataframe for growth rate\n",
    "df[\"Growth Category\"] = df[\"Growth Rate\"].apply(growth_category)\n",
    "\n",
    "group_country_category = df.groupby([\"Country\", \"Growth Category\"])\n",
    "\n",
    "print(group_country_category[\"Population (2024)\"].mean())"
   ]
  },
  {
   "cell_type": "markdown",
   "metadata": {},
   "source": [
    "## Cleaning"
   ]
  },
  {
   "cell_type": "code",
   "execution_count": 21,
   "metadata": {},
   "outputs": [
    {
     "name": "stdout",
     "output_type": "stream",
     "text": [
      "Warning: Looks like you're using an outdated `kagglehub` version (installed: 0.3.8), please consider upgrading to the latest version (0.3.10).\n",
      "Downloading from https://www.kaggle.com/api/v1/datasets/download/ehtishamsadiq/uncleaned-laptop-price-dataset?dataset_version_number=1...\n"
     ]
    },
    {
     "name": "stderr",
     "output_type": "stream",
     "text": [
      "100%|██████████| 23.5k/23.5k [00:00<?, ?B/s]"
     ]
    },
    {
     "name": "stdout",
     "output_type": "stream",
     "text": [
      "Extracting files...\n",
      "Path to dataset files: C:\\Users\\skyfree\\.cache\\kagglehub\\datasets\\ehtishamsadiq\\uncleaned-laptop-price-dataset\\versions\\1\n"
     ]
    },
    {
     "name": "stderr",
     "output_type": "stream",
     "text": [
      "\n"
     ]
    }
   ],
   "source": [
    "# Download latest version\n",
    "path = kagglehub.dataset_download(\"ehtishamsadiq/uncleaned-laptop-price-dataset\")\n",
    "\n",
    "print(\"Path to dataset files:\", path)"
   ]
  },
  {
   "cell_type": "code",
   "execution_count": 22,
   "metadata": {},
   "outputs": [
    {
     "data": {
      "text/plain": [
       "'../Data/Datasets/uncleaned_laptop_price.csv'"
      ]
     },
     "execution_count": 22,
     "metadata": {},
     "output_type": "execute_result"
    }
   ],
   "source": [
    "# Move the dataset\n",
    "files = os.listdir(path)\n",
    "\n",
    "shutil.move(f'{path}/{files[0]}', \"../Data/Datasets/uncleaned_laptop_price.csv\")"
   ]
  },
  {
   "cell_type": "code",
   "execution_count": 23,
   "metadata": {},
   "outputs": [
    {
     "data": {
      "text/html": [
       "<div>\n",
       "<style scoped>\n",
       "    .dataframe tbody tr th:only-of-type {\n",
       "        vertical-align: middle;\n",
       "    }\n",
       "\n",
       "    .dataframe tbody tr th {\n",
       "        vertical-align: top;\n",
       "    }\n",
       "\n",
       "    .dataframe thead th {\n",
       "        text-align: right;\n",
       "    }\n",
       "</style>\n",
       "<table border=\"1\" class=\"dataframe\">\n",
       "  <thead>\n",
       "    <tr style=\"text-align: right;\">\n",
       "      <th></th>\n",
       "      <th>Unnamed: 0</th>\n",
       "      <th>Company</th>\n",
       "      <th>TypeName</th>\n",
       "      <th>Inches</th>\n",
       "      <th>ScreenResolution</th>\n",
       "      <th>Cpu</th>\n",
       "      <th>Ram</th>\n",
       "      <th>Memory</th>\n",
       "      <th>Gpu</th>\n",
       "      <th>OpSys</th>\n",
       "      <th>Weight</th>\n",
       "      <th>Price</th>\n",
       "    </tr>\n",
       "  </thead>\n",
       "  <tbody>\n",
       "    <tr>\n",
       "      <th>0</th>\n",
       "      <td>0.0</td>\n",
       "      <td>Apple</td>\n",
       "      <td>Ultrabook</td>\n",
       "      <td>13.3</td>\n",
       "      <td>IPS Panel Retina Display 2560x1600</td>\n",
       "      <td>Intel Core i5 2.3GHz</td>\n",
       "      <td>8GB</td>\n",
       "      <td>128GB SSD</td>\n",
       "      <td>Intel Iris Plus Graphics 640</td>\n",
       "      <td>macOS</td>\n",
       "      <td>1.37kg</td>\n",
       "      <td>71378.6832</td>\n",
       "    </tr>\n",
       "    <tr>\n",
       "      <th>1</th>\n",
       "      <td>1.0</td>\n",
       "      <td>Apple</td>\n",
       "      <td>Ultrabook</td>\n",
       "      <td>13.3</td>\n",
       "      <td>1440x900</td>\n",
       "      <td>Intel Core i5 1.8GHz</td>\n",
       "      <td>8GB</td>\n",
       "      <td>128GB Flash Storage</td>\n",
       "      <td>Intel HD Graphics 6000</td>\n",
       "      <td>macOS</td>\n",
       "      <td>1.34kg</td>\n",
       "      <td>47895.5232</td>\n",
       "    </tr>\n",
       "    <tr>\n",
       "      <th>2</th>\n",
       "      <td>2.0</td>\n",
       "      <td>HP</td>\n",
       "      <td>Notebook</td>\n",
       "      <td>15.6</td>\n",
       "      <td>Full HD 1920x1080</td>\n",
       "      <td>Intel Core i5 7200U 2.5GHz</td>\n",
       "      <td>8GB</td>\n",
       "      <td>256GB SSD</td>\n",
       "      <td>Intel HD Graphics 620</td>\n",
       "      <td>No OS</td>\n",
       "      <td>1.86kg</td>\n",
       "      <td>30636.0000</td>\n",
       "    </tr>\n",
       "    <tr>\n",
       "      <th>3</th>\n",
       "      <td>3.0</td>\n",
       "      <td>Apple</td>\n",
       "      <td>Ultrabook</td>\n",
       "      <td>15.4</td>\n",
       "      <td>IPS Panel Retina Display 2880x1800</td>\n",
       "      <td>Intel Core i7 2.7GHz</td>\n",
       "      <td>16GB</td>\n",
       "      <td>512GB SSD</td>\n",
       "      <td>AMD Radeon Pro 455</td>\n",
       "      <td>macOS</td>\n",
       "      <td>1.83kg</td>\n",
       "      <td>135195.3360</td>\n",
       "    </tr>\n",
       "    <tr>\n",
       "      <th>4</th>\n",
       "      <td>4.0</td>\n",
       "      <td>Apple</td>\n",
       "      <td>Ultrabook</td>\n",
       "      <td>13.3</td>\n",
       "      <td>IPS Panel Retina Display 2560x1600</td>\n",
       "      <td>Intel Core i5 3.1GHz</td>\n",
       "      <td>8GB</td>\n",
       "      <td>256GB SSD</td>\n",
       "      <td>Intel Iris Plus Graphics 650</td>\n",
       "      <td>macOS</td>\n",
       "      <td>1.37kg</td>\n",
       "      <td>96095.8080</td>\n",
       "    </tr>\n",
       "  </tbody>\n",
       "</table>\n",
       "</div>"
      ],
      "text/plain": [
       "   Unnamed: 0 Company   TypeName Inches                    ScreenResolution  \\\n",
       "0         0.0   Apple  Ultrabook   13.3  IPS Panel Retina Display 2560x1600   \n",
       "1         1.0   Apple  Ultrabook   13.3                            1440x900   \n",
       "2         2.0      HP   Notebook   15.6                   Full HD 1920x1080   \n",
       "3         3.0   Apple  Ultrabook   15.4  IPS Panel Retina Display 2880x1800   \n",
       "4         4.0   Apple  Ultrabook   13.3  IPS Panel Retina Display 2560x1600   \n",
       "\n",
       "                          Cpu   Ram               Memory  \\\n",
       "0        Intel Core i5 2.3GHz   8GB            128GB SSD   \n",
       "1        Intel Core i5 1.8GHz   8GB  128GB Flash Storage   \n",
       "2  Intel Core i5 7200U 2.5GHz   8GB            256GB SSD   \n",
       "3        Intel Core i7 2.7GHz  16GB            512GB SSD   \n",
       "4        Intel Core i5 3.1GHz   8GB            256GB SSD   \n",
       "\n",
       "                            Gpu  OpSys  Weight        Price  \n",
       "0  Intel Iris Plus Graphics 640  macOS  1.37kg   71378.6832  \n",
       "1        Intel HD Graphics 6000  macOS  1.34kg   47895.5232  \n",
       "2         Intel HD Graphics 620  No OS  1.86kg   30636.0000  \n",
       "3            AMD Radeon Pro 455  macOS  1.83kg  135195.3360  \n",
       "4  Intel Iris Plus Graphics 650  macOS  1.37kg   96095.8080  "
      ]
     },
     "execution_count": 23,
     "metadata": {},
     "output_type": "execute_result"
    }
   ],
   "source": [
    "file_loc = \"../Data/Datasets/uncleaned_laptop_price.csv\"\n",
    "df = pd.read_csv(file_loc)\n",
    "\n",
    "df.head()"
   ]
  },
  {
   "cell_type": "code",
   "execution_count": 24,
   "metadata": {},
   "outputs": [
    {
     "name": "stdout",
     "output_type": "stream",
     "text": [
      "<class 'pandas.core.frame.DataFrame'>\n",
      "RangeIndex: 1303 entries, 0 to 1302\n",
      "Data columns (total 12 columns):\n",
      " #   Column            Non-Null Count  Dtype  \n",
      "---  ------            --------------  -----  \n",
      " 0   Unnamed: 0        1273 non-null   float64\n",
      " 1   Company           1273 non-null   object \n",
      " 2   TypeName          1273 non-null   object \n",
      " 3   Inches            1273 non-null   object \n",
      " 4   ScreenResolution  1273 non-null   object \n",
      " 5   Cpu               1273 non-null   object \n",
      " 6   Ram               1273 non-null   object \n",
      " 7   Memory            1273 non-null   object \n",
      " 8   Gpu               1273 non-null   object \n",
      " 9   OpSys             1273 non-null   object \n",
      " 10  Weight            1273 non-null   object \n",
      " 11  Price             1273 non-null   float64\n",
      "dtypes: float64(2), object(10)\n",
      "memory usage: 122.3+ KB\n"
     ]
    }
   ],
   "source": [
    "df.info()"
   ]
  },
  {
   "cell_type": "code",
   "execution_count": 25,
   "metadata": {},
   "outputs": [
    {
     "data": {
      "text/plain": [
       "(1303, 12)"
      ]
     },
     "execution_count": 25,
     "metadata": {},
     "output_type": "execute_result"
    }
   ],
   "source": [
    "# initial data shape\n",
    "df.shape"
   ]
  },
  {
   "cell_type": "code",
   "execution_count": 26,
   "metadata": {},
   "outputs": [
    {
     "data": {
      "text/plain": [
       "Unnamed: 0          30\n",
       "Company             30\n",
       "TypeName            30\n",
       "Inches              30\n",
       "ScreenResolution    30\n",
       "Cpu                 30\n",
       "Ram                 30\n",
       "Memory              30\n",
       "Gpu                 30\n",
       "OpSys               30\n",
       "Weight              30\n",
       "Price               30\n",
       "dtype: int64"
      ]
     },
     "execution_count": 26,
     "metadata": {},
     "output_type": "execute_result"
    }
   ],
   "source": [
    "# Missing values in each column\n",
    "df.isnull().sum()"
   ]
  },
  {
   "cell_type": "code",
   "execution_count": 28,
   "metadata": {},
   "outputs": [
    {
     "data": {
      "text/plain": [
       "29"
      ]
     },
     "execution_count": 28,
     "metadata": {},
     "output_type": "execute_result"
    }
   ],
   "source": [
    "# Number of duplicate rows\n",
    "df.duplicated().sum()"
   ]
  },
  {
   "cell_type": "code",
   "execution_count": 29,
   "metadata": {},
   "outputs": [],
   "source": [
    "# Handle Missing Values\n",
    "df.replace(\"?\", pd.NA, inplace=True)"
   ]
  },
  {
   "cell_type": "code",
   "execution_count": 30,
   "metadata": {},
   "outputs": [
    {
     "data": {
      "text/plain": [
       "Index(['Unnamed: 0', 'Company', 'TypeName', 'Inches', 'ScreenResolution',\n",
       "       'Cpu', 'Ram', 'Memory', 'Gpu', 'OpSys', 'Weight', 'Price'],\n",
       "      dtype='object')"
      ]
     },
     "execution_count": 30,
     "metadata": {},
     "output_type": "execute_result"
    }
   ],
   "source": [
    "df.columns"
   ]
  },
  {
   "cell_type": "code",
   "execution_count": null,
   "metadata": {},
   "outputs": [],
   "source": [
    "# identify important columns\n",
    "critical_cols = ['Company',\n",
    "       'Cpu', 'Ram', 'Memory', 'Gpu', 'OpSys', 'Weight', 'Price']\n",
    "\n",
    "data = data.dropna(subset = critical_cols)"
   ]
  }
 ],
 "metadata": {
  "kernelspec": {
   "display_name": ".venv",
   "language": "python",
   "name": "python3"
  },
  "language_info": {
   "codemirror_mode": {
    "name": "ipython",
    "version": 3
   },
   "file_extension": ".py",
   "mimetype": "text/x-python",
   "name": "python",
   "nbconvert_exporter": "python",
   "pygments_lexer": "ipython3",
   "version": "3.12.6"
  }
 },
 "nbformat": 4,
 "nbformat_minor": 2
}
