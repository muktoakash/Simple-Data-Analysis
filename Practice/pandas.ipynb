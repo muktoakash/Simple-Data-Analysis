{
 "cells": [
  {
   "cell_type": "markdown",
   "metadata": {},
   "source": [
    "# Practice with Pandas\n",
    "\n"
   ]
  },
  {
   "cell_type": "markdown",
   "metadata": {},
   "source": [
    "## Import Data from kaggle"
   ]
  },
  {
   "cell_type": "code",
   "execution_count": 19,
   "metadata": {},
   "outputs": [],
   "source": [
    "import kagglehub\n",
    "\n",
    "# Authenticate\n",
    "# kagglehub.login() # This will prompt you for your credentials.\n",
    "# We also offer other ways to authenticate (credential file & env variables): https://github.com/Kaggle/kagglehub?tab=readme-ov-file#authenticate\n",
    "\n",
    "from kaggle.api.kaggle_api_extended import KaggleApi\n",
    "\n",
    "api = KaggleApi()\n",
    "api.authenticate()"
   ]
  },
  {
   "cell_type": "code",
   "execution_count": 37,
   "metadata": {},
   "outputs": [
    {
     "name": "stdout",
     "output_type": "stream",
     "text": [
      "Downloading from https://www.kaggle.com/api/v1/datasets/download/ibrarhussain123/world-largest-cities-by-population-2024?dataset_version_number=1...\n"
     ]
    },
    {
     "name": "stderr",
     "output_type": "stream",
     "text": [
      "100%|██████████| 16.9k/16.9k [00:00<00:00, 1.04MB/s]"
     ]
    },
    {
     "name": "stdout",
     "output_type": "stream",
     "text": [
      "Extracting files...\n",
      "Path to dataset files: C:\\Users\\skyfree\\.cache\\kagglehub\\datasets\\ibrarhussain123\\world-largest-cities-by-population-2024\\versions\\1\n"
     ]
    },
    {
     "name": "stderr",
     "output_type": "stream",
     "text": [
      "\n"
     ]
    }
   ],
   "source": [
    "import kagglehub\n",
    "\n",
    "# Download latest version\n",
    "path = kagglehub.dataset_download(\"ibrarhussain123/world-largest-cities-by-population-2024\")\n",
    "\n",
    "print(\"Path to dataset files:\", path)"
   ]
  },
  {
   "cell_type": "code",
   "execution_count": 51,
   "metadata": {},
   "outputs": [
    {
     "data": {
      "text/plain": [
       "'../Data/Datasets/big_cities.csv'"
      ]
     },
     "execution_count": 51,
     "metadata": {},
     "output_type": "execute_result"
    }
   ],
   "source": [
    "# Move the dataset\n",
    "import os, shutil\n",
    "\n",
    "files = os.listdir(path)\n",
    "\n",
    "shutil.move(f'{path}/{files[0]}', \"../Data/Datasets/big_cities.csv\")"
   ]
  },
  {
   "cell_type": "markdown",
   "metadata": {},
   "source": [
    "## Load Data into Pandas"
   ]
  },
  {
   "cell_type": "code",
   "execution_count": 56,
   "metadata": {},
   "outputs": [
    {
     "data": {
      "text/html": [
       "<div>\n",
       "<style scoped>\n",
       "    .dataframe tbody tr th:only-of-type {\n",
       "        vertical-align: middle;\n",
       "    }\n",
       "\n",
       "    .dataframe tbody tr th {\n",
       "        vertical-align: top;\n",
       "    }\n",
       "\n",
       "    .dataframe thead th {\n",
       "        text-align: right;\n",
       "    }\n",
       "</style>\n",
       "<table border=\"1\" class=\"dataframe\">\n",
       "  <thead>\n",
       "    <tr style=\"text-align: right;\">\n",
       "      <th></th>\n",
       "      <th>Unnamed: 0</th>\n",
       "      <th>City</th>\n",
       "      <th>Country</th>\n",
       "      <th>Population (2024)</th>\n",
       "      <th>Population (2023)</th>\n",
       "      <th>Growth Rate</th>\n",
       "    </tr>\n",
       "  </thead>\n",
       "  <tbody>\n",
       "    <tr>\n",
       "      <th>0</th>\n",
       "      <td>0</td>\n",
       "      <td>Tokyo</td>\n",
       "      <td>Japan</td>\n",
       "      <td>37115035</td>\n",
       "      <td>37194105</td>\n",
       "      <td>-0.0021</td>\n",
       "    </tr>\n",
       "    <tr>\n",
       "      <th>1</th>\n",
       "      <td>1</td>\n",
       "      <td>Delhi</td>\n",
       "      <td>India</td>\n",
       "      <td>33807403</td>\n",
       "      <td>32941309</td>\n",
       "      <td>0.0263</td>\n",
       "    </tr>\n",
       "    <tr>\n",
       "      <th>2</th>\n",
       "      <td>2</td>\n",
       "      <td>Shanghai</td>\n",
       "      <td>China</td>\n",
       "      <td>29867918</td>\n",
       "      <td>29210808</td>\n",
       "      <td>0.0225</td>\n",
       "    </tr>\n",
       "    <tr>\n",
       "      <th>3</th>\n",
       "      <td>3</td>\n",
       "      <td>Dhaka</td>\n",
       "      <td>Bangladesh</td>\n",
       "      <td>23935652</td>\n",
       "      <td>23209616</td>\n",
       "      <td>0.0313</td>\n",
       "    </tr>\n",
       "    <tr>\n",
       "      <th>4</th>\n",
       "      <td>4</td>\n",
       "      <td>Sao Paulo</td>\n",
       "      <td>Brazil</td>\n",
       "      <td>22806704</td>\n",
       "      <td>22619736</td>\n",
       "      <td>0.0083</td>\n",
       "    </tr>\n",
       "  </tbody>\n",
       "</table>\n",
       "</div>"
      ],
      "text/plain": [
       "   Unnamed: 0       City     Country  Population (2024)  Population (2023)  \\\n",
       "0           0      Tokyo       Japan           37115035           37194105   \n",
       "1           1      Delhi       India           33807403           32941309   \n",
       "2           2   Shanghai       China           29867918           29210808   \n",
       "3           3      Dhaka  Bangladesh           23935652           23209616   \n",
       "4           4  Sao Paulo      Brazil           22806704           22619736   \n",
       "\n",
       "   Growth Rate  \n",
       "0      -0.0021  \n",
       "1       0.0263  \n",
       "2       0.0225  \n",
       "3       0.0313  \n",
       "4       0.0083  "
      ]
     },
     "execution_count": 56,
     "metadata": {},
     "output_type": "execute_result"
    }
   ],
   "source": [
    "import pandas as pd\n",
    "\n",
    "file_loc = \"../Data/Datasets/big_cities.csv\"\n",
    "df = pd.read_csv(file_loc)\n",
    "\n",
    "df.head()"
   ]
  },
  {
   "cell_type": "code",
   "execution_count": 59,
   "metadata": {},
   "outputs": [],
   "source": [
    "# Drop the Unnamed column\n",
    "df.drop(df.columns[0], axis= 1, inplace=True)"
   ]
  },
  {
   "cell_type": "markdown",
   "metadata": {},
   "source": [
    "## Explore"
   ]
  },
  {
   "cell_type": "code",
   "execution_count": 61,
   "metadata": {},
   "outputs": [
    {
     "name": "stdout",
     "output_type": "stream",
     "text": [
      "<class 'pandas.core.frame.DataFrame'>\n",
      "RangeIndex: 801 entries, 0 to 800\n",
      "Data columns (total 5 columns):\n",
      " #   Column             Non-Null Count  Dtype  \n",
      "---  ------             --------------  -----  \n",
      " 0   City               801 non-null    object \n",
      " 1   Country            801 non-null    object \n",
      " 2   Population (2024)  801 non-null    int64  \n",
      " 3   Population (2023)  801 non-null    int64  \n",
      " 4   Growth Rate        801 non-null    float64\n",
      "dtypes: float64(1), int64(2), object(2)\n",
      "memory usage: 31.4+ KB\n",
      "None\n"
     ]
    }
   ],
   "source": [
    "print(df.info())"
   ]
  },
  {
   "cell_type": "code",
   "execution_count": 62,
   "metadata": {},
   "outputs": [
    {
     "name": "stdout",
     "output_type": "stream",
     "text": [
      "       Population (2024)  Population (2023)  Growth Rate\n",
      "count       8.010000e+02       8.010000e+02   801.000000\n",
      "mean        2.654327e+06       2.604461e+06     0.020051\n",
      "std         3.723253e+06       3.661201e+06     0.012180\n",
      "min         7.500360e+05       7.228360e+05    -0.024900\n",
      "25%         9.909310e+05       9.698040e+05     0.012200\n",
      "50%         1.379368e+06       1.363510e+06     0.019700\n",
      "75%         2.570980e+06       2.514077e+06     0.026600\n",
      "max         3.711504e+07       3.719410e+07     0.058200\n"
     ]
    }
   ],
   "source": [
    "print(df.describe())"
   ]
  },
  {
   "cell_type": "markdown",
   "metadata": {},
   "source": [
    "### Warmup Exercises\n",
    "\n",
    "This part is a follow along exercise Learn Data Analytics with Pandas: Master Data Filtering in Python from CodeWithJosh"
   ]
  },
  {
   "cell_type": "code",
   "execution_count": 64,
   "metadata": {},
   "outputs": [
    {
     "name": "stdout",
     "output_type": "stream",
     "text": [
      "        City     Country  Population (2024)  Population (2023)  Growth Rate\n",
      "0      Tokyo       Japan           37115035           37194105      -0.0021\n",
      "1      Delhi       India           33807403           32941309       0.0263\n",
      "2   Shanghai       China           29867918           29210808       0.0225\n",
      "3      Dhaka  Bangladesh           23935652           23209616       0.0313\n",
      "4  Sao Paulo      Brazil           22806704           22619736       0.0083\n",
      "<class 'pandas.core.frame.DataFrame'>\n",
      "Index: 9 entries, 0 to 8\n",
      "Data columns (total 5 columns):\n",
      " #   Column             Non-Null Count  Dtype  \n",
      "---  ------             --------------  -----  \n",
      " 0   City               9 non-null      object \n",
      " 1   Country            9 non-null      object \n",
      " 2   Population (2024)  9 non-null      int64  \n",
      " 3   Population (2023)  9 non-null      int64  \n",
      " 4   Growth Rate        9 non-null      float64\n",
      "dtypes: float64(1), int64(2), object(2)\n",
      "memory usage: 432.0+ bytes\n",
      "None\n",
      "       Population (2024)  Population (2023)  Growth Rate\n",
      "count       9.000000e+00       9.000000e+00     9.000000\n",
      "mean        2.628046e+07       2.585588e+07     0.017033\n",
      "std         5.810194e+06       5.823099e+06     0.010157\n",
      "min         2.167315e+07       2.129652e+07    -0.002100\n",
      "25%         2.250532e+07       2.218320e+07     0.010000\n",
      "50%         2.280670e+07       2.261974e+07     0.019400\n",
      "75%         2.986792e+07       2.921081e+07     0.022500\n",
      "max         3.711504e+07       3.719410e+07     0.031300\n"
     ]
    }
   ],
   "source": [
    "## Find cities with 2024 population greater than 20 million\n",
    "\n",
    "condition = df[\"Population (2024)\"] > 20e+6\n",
    "\n",
    "cities_more_than_20min_2024 = df[condition]\n",
    "\n",
    "print(cities_more_than_20min_2024.head())\n",
    "print(cities_more_than_20min_2024.info())\n",
    "print(cities_more_than_20min_2024.describe())"
   ]
  },
  {
   "cell_type": "code",
   "execution_count": 68,
   "metadata": {},
   "outputs": [
    {
     "name": "stdout",
     "output_type": "stream",
     "text": [
      "                 City  Country  Population (2024)  Population (2023)  \\\n",
      "38   Ho Chi Minh City  Vietnam            9567656            9320866   \n",
      "79              Hanoi  Vietnam            5431801            5253385   \n",
      "272           Can Tho  Vietnam            1938915            1865172   \n",
      "375         Hai Phong  Vietnam            1463650            1422974   \n",
      "460           Da Nang  Vietnam            1253228            1220634   \n",
      "\n",
      "     Growth Rate  \n",
      "38        0.0265  \n",
      "79        0.0340  \n",
      "272       0.0395  \n",
      "375       0.0286  \n",
      "460       0.0267  \n",
      "<class 'pandas.core.frame.DataFrame'>\n",
      "Index: 6 entries, 38 to 508\n",
      "Data columns (total 5 columns):\n",
      " #   Column             Non-Null Count  Dtype  \n",
      "---  ------             --------------  -----  \n",
      " 0   City               6 non-null      object \n",
      " 1   Country            6 non-null      object \n",
      " 2   Population (2024)  6 non-null      int64  \n",
      " 3   Population (2023)  6 non-null      int64  \n",
      " 4   Growth Rate        6 non-null      float64\n",
      "dtypes: float64(1), int64(2), object(2)\n",
      "memory usage: 288.0+ bytes\n",
      "None\n",
      "       Population (2024)  Population (2023)  Growth Rate\n",
      "count       6.000000e+00       6.000000e+00     6.000000\n",
      "mean        3.466374e+06       3.365642e+06     0.030717\n",
      "std         3.397902e+06       3.308743e+06     0.005085\n",
      "min         1.142997e+06       1.110824e+06     0.026500\n",
      "25%         1.305834e+06       1.271219e+06     0.027175\n",
      "50%         1.701282e+06       1.644073e+06     0.028800\n",
      "75%         4.558580e+06       4.406332e+06     0.032750\n",
      "max         9.567656e+06       9.320866e+06     0.039500\n"
     ]
    }
   ],
   "source": [
    "## Find largest cities in Vietnam\n",
    "\n",
    "condition = df[\"Country\"] == \"Vietnam\"\n",
    "\n",
    "cities_Vietnam = df[condition]\n",
    "\n",
    "print(cities_Vietnam.head())\n",
    "print(cities_Vietnam.info())\n",
    "print(cities_Vietnam.describe())"
   ]
  },
  {
   "cell_type": "code",
   "execution_count": 71,
   "metadata": {},
   "outputs": [
    {
     "name": "stdout",
     "output_type": "stream",
     "text": [
      "         City Country  Population (2024)  Population (2023)  Growth Rate\n",
      "2    Shanghai   China           29867918           29210808       0.0225\n",
      "7     Beijing   China           22189082           21766214       0.0194\n",
      "10  Chongqing   China           17773923           17340704       0.0250\n",
      "18  Guangzhou   China           14590096           14284353       0.0214\n",
      "19    Tianjin   China           14470873           14238643       0.0163\n",
      "<class 'pandas.core.frame.DataFrame'>\n",
      "Index: 225 entries, 2 to 800\n",
      "Data columns (total 5 columns):\n",
      " #   Column             Non-Null Count  Dtype  \n",
      "---  ------             --------------  -----  \n",
      " 0   City               225 non-null    object \n",
      " 1   Country            225 non-null    object \n",
      " 2   Population (2024)  225 non-null    int64  \n",
      " 3   Population (2023)  225 non-null    int64  \n",
      " 4   Growth Rate        225 non-null    float64\n",
      "dtypes: float64(1), int64(2), object(2)\n",
      "memory usage: 10.5+ KB\n",
      "None\n",
      "       Population (2024)  Population (2023)  Growth Rate\n",
      "count       2.250000e+02       2.250000e+02   225.000000\n",
      "mean        2.422982e+06       2.369252e+06     0.023865\n",
      "std         3.391057e+06       3.321088e+06     0.006145\n",
      "min         7.500360e+05       7.338100e+05     0.009700\n",
      "25%         9.306200e+05       9.107430e+05     0.019700\n",
      "50%         1.275395e+06       1.250668e+06     0.023100\n",
      "75%         2.152226e+06       2.107539e+06     0.027000\n",
      "max         2.986792e+07       2.921081e+07     0.048300\n"
     ]
    }
   ],
   "source": [
    "## Find the Growing Cities in China\n",
    "\n",
    "condition1 = df[\"Country\"] == \"China\"\n",
    "condition2 = df[\"Growth Rate\"] > 0\n",
    "\n",
    "growing_cities_in_China = df[condition1 & condition2]\n",
    "\n",
    "print(growing_cities_in_China.head())\n",
    "print(growing_cities_in_China.info())\n",
    "print(growing_cities_in_China.describe())"
   ]
  },
  {
   "cell_type": "code",
   "execution_count": 72,
   "metadata": {},
   "outputs": [
    {
     "name": "stdout",
     "output_type": "stream",
     "text": [
      "262676454\n"
     ]
    }
   ],
   "source": [
    "## Total 2024 population of largest cities in India\n",
    "condition = df[\"Country\"] == \"India\"\n",
    "\n",
    "total_Pop_India = df[condition][\"Population (2024)\"].sum()\n",
    "\n",
    "print(total_Pop_India)"
   ]
  },
  {
   "cell_type": "code",
   "execution_count": 73,
   "metadata": {},
   "outputs": [
    {
     "data": {
      "text/plain": [
       "-0.0019"
      ]
     },
     "execution_count": 73,
     "metadata": {},
     "output_type": "execute_result"
    }
   ],
   "source": [
    "## Find cities with a growth rate decline and calculate their growth median\n",
    "condition = df[\"Growth Rate\"] < 0\n",
    "\n",
    "df[condition][\"Growth Rate\"].median()"
   ]
  },
  {
   "cell_type": "code",
   "execution_count": 75,
   "metadata": {},
   "outputs": [
    {
     "data": {
      "text/plain": [
       "733810"
      ]
     },
     "execution_count": 75,
     "metadata": {},
     "output_type": "execute_result"
    }
   ],
   "source": [
    "## Find the minimum 2023 population from the growing cities in China\n",
    "\n",
    "growing_cities_in_China[\"Population (2023)\"].min()"
   ]
  },
  {
   "cell_type": "code",
   "execution_count": null,
   "metadata": {},
   "outputs": [],
   "source": []
  }
 ],
 "metadata": {
  "kernelspec": {
   "display_name": ".venv",
   "language": "python",
   "name": "python3"
  },
  "language_info": {
   "codemirror_mode": {
    "name": "ipython",
    "version": 3
   },
   "file_extension": ".py",
   "mimetype": "text/x-python",
   "name": "python",
   "nbconvert_exporter": "python",
   "pygments_lexer": "ipython3",
   "version": "3.12.6"
  }
 },
 "nbformat": 4,
 "nbformat_minor": 2
}
